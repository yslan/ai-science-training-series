{
 "cells": [
  {
   "cell_type": "markdown",
   "metadata": {},
   "source": [
    "In this notebook, we introduce:\n",
    "\n",
    "- **Linear Regression** as __single layer, single neuron model__ to motivate the introduction of Neural Networks as Universal Approximators that are modeled as collections of neurons connected in an acyclic graph\n",
    "\n",
    "\n",
    "- __Convolutions__ and examples of simple __image filters__ to motivate the construction of __Convolutionlal Neural Networks.__\n",
    "\n",
    "\n",
    "- Loss/Error functions, Gradient Decent, Backpropagation, etc"
   ]
  },
  {
   "cell_type": "code",
   "execution_count": null,
   "metadata": {},
   "outputs": [],
   "source": [
    "import numpy as np\n",
    "import matplotlib.pyplot as plt"
   ]
  },
  {
   "cell_type": "markdown",
   "metadata": {},
   "source": [
    "## One Neuron Neural Network"
   ]
  },
  {
   "cell_type": "markdown",
   "metadata": {},
   "source": [
    "<img src=\"images/Neuron.png\">\n",
    "\n",
    "[src: [CS231n](http://cs231n.stanford.edu/)]"
   ]
  },
  {
   "cell_type": "markdown",
   "metadata": {},
   "source": [
    "We're going to model a straight line Linear Regression (i.e fitting to $y = mx +b$) as a 1 neuron NN. First let's generate some noisy data that we'll try to fit to using our one neuron neural network (a.k.a Linear Regression) "
   ]
  },
  {
   "cell_type": "code",
   "execution_count": null,
   "metadata": {},
   "outputs": [],
   "source": [
    "X = np.arange(0,70, 1)\n",
    "Y = 2*X\n",
    "noise = 100*np.random.rand(70) \n",
    "Y = Y + noise\n",
    "\n",
    "plt.scatter(X, Y)\n",
    "plt.show()"
   ]
  },
  {
   "cell_type": "markdown",
   "metadata": {},
   "source": [
    "The parameters of our network are the number m and b which we randomly initiate, and prediction is give by:\n",
    "\n",
    "\\begin{align}\n",
    "\\ \\tilde{y_i} &= mx_i + b \\\\\n",
    "\\end{align}\n",
    "\n",
    "\n",
    "For the loss function we use the standard Mean Squared Error:\n",
    "\n",
    "\\begin{align}\n",
    "\\ L & = \\frac{1}{N} \\sum_{k=1}^N (y_k - \\tilde{y_k})^2 \\\\\n",
    "\\end{align}\n",
    "\n",
    "\n",
    "The Batch Gradient Decent step is given by (_notice we are using the entire dataset as a batch_):\n",
    "\n",
    "\\begin{align}\n",
    "\\ m &= m - \\alpha \\frac{dL}{dm} \\\\\n",
    "\\ b &= b - \\alpha \\frac{dL}{db} \\\\\n",
    "\\end{align}\n",
    "\n",
    "where $\\alpha$ is the learning rate, and the gradients are given by: \n",
    "\n",
    "\\begin{align}\n",
    "\\ \\frac{dL}{dm} &= -\\frac{2}{N} \\sum_{k=1}^N x_k(y_k - \\tilde{y_k})\\\\\n",
    "\\end{align}\n",
    "\\begin{align}\n",
    "\\ \\frac{dL}{db} &= -\\frac{2}{N} \\sum_{k=1}^N (y_k - \\tilde{y_k})\\\\\n",
    "\\end{align}"
   ]
  },
  {
   "cell_type": "code",
   "execution_count": null,
   "metadata": {},
   "outputs": [],
   "source": [
    "m = np.random.randn(1)\n",
    "b = np.random.randn(1)\n",
    "print(f'Random guess for m and b:',(m,b))\n",
    "\n",
    "# Initial random prediction\n",
    "Y_pred = m*X + b\n",
    "\n",
    "plt.scatter(X, Y) \n",
    "plt.plot([X[0], X[-1]], [Y_pred[0], Y_pred[-1]], color='red')  # regression line\n",
    "plt.show()"
   ]
  },
  {
   "cell_type": "code",
   "execution_count": null,
   "metadata": {},
   "outputs": [],
   "source": [
    "alpha = 0.0001                             # The learning Rate\n",
    "epochs = 10000                             # The number of iterations to perform gradient descent\n",
    "\n",
    "n = float(len(X))                          # Number of elements in X\n",
    "\n",
    "# Training the Neural Net\n",
    "for i in range(epochs): \n",
    "    Y_pred = m*X + b                       # The current predicted value of Y\n",
    "    Loss = sum((Y - Y_pred )**2)/n         # Compute loss\n",
    "    D_m = (-2/n) * sum(X * (Y - Y_pred))   # Derivative wrt m\n",
    "    D_b = (-2/n) * sum(Y - Y_pred)         # Derivative wrt b\n",
    "    m = m - alpha * D_m                    # Update m\n",
    "    b = b - alpha * D_b                    # Update b\n",
    "    \n",
    "    if i%1000 == 0:\n",
    "        print( \"Epoch {}, Loss : {}\".format(i, Loss))\n",
    "print( \"Epoch {}, Loss : {}\".format(i, Loss))"
   ]
  },
  {
   "cell_type": "code",
   "execution_count": null,
   "metadata": {},
   "outputs": [],
   "source": [
    "# Making predictions\n",
    "Y_pred = m*X + b\n",
    "\n",
    "plt.scatter(X, Y) \n",
    "plt.plot([X[0], X[-1]], [Y_pred[0], Y_pred[-1]], color='red')  # regression line\n",
    "plt.show()"
   ]
  },
  {
   "cell_type": "markdown",
   "metadata": {},
   "source": [
    "Refernces: https://towardsdatascience.com/linear-regression-using-gradient-descent-in-10-lines-of-code-642f995339c0"
   ]
  },
  {
   "cell_type": "markdown",
   "metadata": {},
   "source": [
    "## Neural Networks"
   ]
  },
  {
   "cell_type": "markdown",
   "metadata": {},
   "source": [
    "An example of a singe _layer_ neural net\n",
    "<img src='http://cs231n.github.io/assets/imagemap.jpg' alt=\"multiple dimensions\" style=\"width: 400px;\">"
   ]
  },
  {
   "cell_type": "markdown",
   "metadata": {},
   "source": [
    "<img src=\"http://cs231n.github.io/assets/nn1/neural_net.jpeg\" alt=\"nn\" style=\"width: 400px;\"/>\n",
    "\n",
    "[src: [CS231n: Linear Classifiers](https://cs231n.github.io/linear-classify/)]"
   ]
  },
  {
   "cell_type": "markdown",
   "metadata": {},
   "source": [
    "Neural Networks are modeled as collections of neurons that are connected in an acyclic graph. In other words, the outputs of some neurons can become inputs to other neurons. Cycles are not allowed since that would imply an infinite loop in the forward pass of a network. Instead of an amorphous blobs of connected neurons, Neural Network models are often organized into distinct layers of neurons. For regular neural networks, the most common layer type is the fully-connected layer in which neurons between two adjacent layers are fully pairwise connected, but neurons within a single layer share no connections. [See: cs231n: Neural Netwroks](http://cs231n.github.io/neural-networks-1/)\n",
    "\n",
    "\n",
    "<img src=\"http://cs231n.github.io/assets/nn1/neural_net2.jpeg\" alt=\"nn\" style=\"width: 400px;\"/>\n",
    "\n",
    "\n",
    "[src: [CS231n: Neural Netwroks](https://cs231n.github.io/neural-networks-1/)]"
   ]
  },
  {
   "cell_type": "markdown",
   "metadata": {},
   "source": [
    "Building blocks:\n",
    "\n",
    "- **Loss Function**: We can measure the accuracy of our hypothesis function by using a cost function. This takes an average of all the results of the hypothesis with inputs from x's compared to the actual output y's. The goal is to minimize this loss/error.\n",
    "\n",
    "\n",
    "\n",
    "- **Gradient Decent** and **Learning Rate**: So we have our hypothesis function (Neural Net) and we have a way of measuring how well it fits into the data. Now we need to estimate the parameters in hypothesis function (Weights of the Neural Net). The way we do this is by taking the derivative of our cost function. The slope of the tangent is the derivative at that point and it will give us a direction to move towards. We make steps down the cost function in the direction with the steepest descent, and the size of each step is determined by the parameter α, which is called the learning rate.\n",
    "\n",
    "\n",
    "- **Backpropagation**: Chain rule from calculus 101 applied to multi-layer neural network (i.e. gradient propagated backwards through the layers). An __n layer neural network__ can simply be seen as:\n",
    "    \n",
    "    \\begin{align}\n",
    "    \\ \\tilde{y_i} &= f_n(W_n... f_2(W_2 f_1(W_1 X))) \\\\\n",
    "    \\end{align}\n",
    "    \n",
    "    where $f_1, f_2, ... f_n$ are the activation functions at each layer, $W_1, W_2, ... W_n$ are matrices of parameters at each layer, and $X$ is the input. Hence to find the gradient of the loss function w.r.t to any parameter one simply needs to apply the chain rule.\n",
    "\n",
    "\n",
    "\n",
    "\n",
    "- **Optimizer**: Different flavors of gradient decent (more on this later). \n",
    "\n",
    "\n",
    "- **Activation Function**: Some non-linear function applied to intermediate layer's outputs before feeding into the next layer."
   ]
  },
  {
   "cell_type": "markdown",
   "metadata": {},
   "source": [
    "##  Convolutional Neural Nets (CNNs)"
   ]
  },
  {
   "cell_type": "markdown",
   "metadata": {},
   "source": [
    "![CNN](https://anhvnn.files.wordpress.com/2018/02/convolve.png?w=1000)\n",
    "\n",
    "\n",
    "[src: [tex.stackexchange.com visualizing matrix convolution](https://tex.stackexchange.com/questions/522118/visualizing-matrix-convolution)]"
   ]
  },
  {
   "cell_type": "markdown",
   "metadata": {},
   "source": [
    "For a filter of size $N \\times N$ applied to an image of size $W \\times H$, with padding $P$ and stride $S$, the output tensor will have the dimensions:\n",
    "\n",
    "\\begin{align}\n",
    "\\ (\\frac{W - N + 2P}{S} + 1) \\times (\\frac{H - N + 2P}{S} + 1) \\\\\n",
    "\\end{align}"
   ]
  },
  {
   "cell_type": "markdown",
   "metadata": {},
   "source": [
    "Let's apply a basic convolution on a Gray Scale image. We will iterate over the image, leaving a 1 pixel margin, and multiply out each of the neighbors of the current pixel by the corresponding value in the filter, and then sum them up to produce the activation value in the resulting tensor."
   ]
  },
  {
   "cell_type": "code",
   "execution_count": null,
   "metadata": {},
   "outputs": [],
   "source": [
    "import cv2\n",
    "from scipy import misc"
   ]
  },
  {
   "cell_type": "code",
   "execution_count": null,
   "metadata": {},
   "outputs": [],
   "source": [
    "img = misc.ascent()\n",
    "plt.grid(False)\n",
    "plt.gray()\n",
    "plt.axis('off')\n",
    "plt.imshow(img)\n",
    "plt.show()"
   ]
  },
  {
   "cell_type": "code",
   "execution_count": null,
   "metadata": {},
   "outputs": [],
   "source": [
    "def simple_convolution(img, filter):\n",
    "    output = np.copy(img)\n",
    "    size_x, size_y = img.shape\n",
    "    for x in range(1,size_x-1):\n",
    "        for y in range(1,size_y-1):\n",
    "            convolution = 0.0\n",
    "            convolution = convolution + (img[x - 1, y-1] * filter[0][0])\n",
    "            convolution = convolution + (img[x, y-1] * filter[0][1])\n",
    "            convolution = convolution + (img[x + 1, y-1] * filter[0][2])\n",
    "            convolution = convolution + (img[x-1, y] * filter[1][0])\n",
    "            convolution = convolution + (img[x, y] * filter[1][1])\n",
    "            convolution = convolution + (img[x+1, y] * filter[1][2])\n",
    "            convolution = convolution + (img[x-1, y+1] * filter[2][0])\n",
    "            convolution = convolution + (img[x, y+1] * filter[2][1])\n",
    "            convolution = convolution + (img[x+1, y+1] * filter[2][2])\n",
    "            if(convolution<0):\n",
    "                convolution=0\n",
    "            if(convolution>255):\n",
    "                convolution=255\n",
    "            output[x, y] = convolution\n",
    "    return output"
   ]
  },
  {
   "cell_type": "code",
   "execution_count": null,
   "metadata": {},
   "outputs": [],
   "source": [
    "#Experiment with different filters to see the effects.\n",
    "\n",
    "filter = [ [-1, -2, -1], [0, 0, 0], [1, 2, 1]]      #vertical edge detector  (bottom sobel )\n",
    "#filter = [ [-1, 0, 1], [-2, 0, 2], [-1, 0, 1]]      #horizontal edge detector (right sobel)\n",
    "\n",
    "#filter = [[-1, -1, -1], [-1, 8, -1], [-1, -1, -1]]  #outline\n",
    "#filter = [[0, -1, 0], [-1, 5, -1], [0, -1, 0]]      #sharpen\n",
    "#filter = [[-2, -1, 0], [-1, 1, 1], [0, 1, 2]]       #emboss"
   ]
  },
  {
   "cell_type": "code",
   "execution_count": null,
   "metadata": {},
   "outputs": [],
   "source": [
    "output = simple_convolution(img, filter)\n",
    "\n",
    "plt.subplot(1,2,1)\n",
    "plt.imshow(img, 'gray')\n",
    "plt.title('Original')\n",
    "\n",
    "plt.subplot(1,2,2)\n",
    "plt.imshow(output, 'gray')\n",
    "plt.title('Output')"
   ]
  },
  {
   "cell_type": "markdown",
   "metadata": {},
   "source": [
    "References: https://github.com/lmoroney/dlaicourse"
   ]
  },
  {
   "cell_type": "markdown",
   "metadata": {},
   "source": [
    "**Max Pooling**"
   ]
  },
  {
   "cell_type": "markdown",
   "metadata": {},
   "source": [
    "<img src=\"https://computersciencewiki.org/images/8/8a/MaxpoolSample2.png\" alt=\"MaxPooling\" style=\"width: 400px;\"/>\n",
    "\n",
    "[src: [computersciencewiki](https://computersciencewiki.org/index.php/Max-pooling_/_Pooling)]"
   ]
  },
  {
   "cell_type": "markdown",
   "metadata": {},
   "source": [
    "**A complete CNN**"
   ]
  },
  {
   "cell_type": "markdown",
   "metadata": {},
   "source": [
    "![CNN](http://personal.ie.cuhk.edu.hk/~ccloy/project_target_code/images/fig3.png)\n",
    "\n",
    "[src: [Deep Convolutional-Shepard Interpolation Neural Networks for Image Classification Tasks](https://link.springer.com/chapter/10.1007%2F978-3-319-93000-8_21)]"
   ]
  },
  {
   "cell_type": "code",
   "execution_count": null,
   "metadata": {},
   "outputs": [],
   "source": []
  }
 ],
 "metadata": {
  "kernelspec": {
   "display_name": "conda/2021-09-22",
   "language": "python",
   "name": "conda-2021-09-22"
  },
  "language_info": {
   "codemirror_mode": {
    "name": "ipython",
    "version": 3
   },
   "file_extension": ".py",
   "mimetype": "text/x-python",
   "name": "python",
   "nbconvert_exporter": "python",
   "pygments_lexer": "ipython3",
   "version": "3.8.10"
  }
 },
 "nbformat": 4,
 "nbformat_minor": 2
}
